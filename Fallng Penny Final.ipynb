{
 "cells": [
  {
   "cell_type": "markdown",
   "id": "72b4235b",
   "metadata": {},
   "source": [
    "# Falling Coins - A Study\n",
    "#### By Brent Mercado\n",
    "\n",
    "Throughout the semester, we continously asked the same quesition: *what happens if a penny is dropped off of the Empire State Building?*\n",
    "\n",
    "<img src=\"https://media.istockphoto.com/id/157423207/photo/change-falling-from-sky-heaven-pennies-dimes-quarters-nickles.jpg?s=612x612&w=0&k=20&c=DBrYC6SAAg1Sd8MX0_2_UMK9OTiH2bIFZ_ehDi-VKzw=\" width=400 height=250 /> \n",
    "\n",
    "In this cumulative project, not only will we answer the question of the penny falling, but significantly  study the behavior of a free falling object under different conditions. We will utilize various kinematic based equations to model a free falling object - a penny and a quarter! \n",
    "**The position of a falling object at an instantaneous moment is represented by:**\n",
    "$$ \n",
    "\\frac{dy}{dt} = \\ v\n",
    "$$\n",
    "\n",
    "Where dy represents position and dt represents time, position over time is velocity. **The velocity of a falling object at an instantaneous moment is represented by:**\n",
    "$$ \n",
    "\\frac{dv}{dt} = \\ -g + a_d\n",
    "$$\n",
    "\n",
    "Where dv represents velocity and dt represents time, velocity over time is the sum of accelerations with respect to direction. In this case, acceleration due to gravity, g, acts in the negative direction and a<sub>drag</sub>, acts in the positive direction.\n",
    "\n",
    "Using these simulations, we will visually represent both a simulation and analysis model for different scenarios. Lets start!"
   ]
  },
  {
   "cell_type": "code",
   "execution_count": 1,
   "id": "d743489a",
   "metadata": {},
   "outputs": [],
   "source": [
    "# download modsim.py if necessary\n",
    "\n",
    "from os.path import basename, exists\n",
    "\n",
    "def download(url):\n",
    "    filename = basename(url)\n",
    "    if not exists(filename):\n",
    "        from urllib.request import urlretrieve\n",
    "        local, _ = urlretrieve(url, filename)\n",
    "        print('Downloaded ' + local)\n",
    "    \n",
    "download('https://raw.githubusercontent.com/AllenDowney/' +\n",
    "         'ModSimPy/master/modsim.py')"
   ]
  },
  {
   "cell_type": "code",
   "execution_count": 2,
   "id": "34b6761e",
   "metadata": {},
   "outputs": [],
   "source": [
    "# Configure Jupyter so figures appear in the notebook\n",
    "%matplotlib inline\n",
    "\n",
    "# Configure Jupyter to display the assigned value after an assignment\n",
    "%config InteractiveShell.ast_node_interactivity='last_expr_or_assign'\n",
    "\n",
    "# import functions from the modsim.py module\n",
    "from modsim import *"
   ]
  },
  {
   "cell_type": "code",
   "execution_count": 3,
   "id": "2e717b79",
   "metadata": {},
   "outputs": [],
   "source": [
    "import math\n",
    "import numpy as np"
   ]
  },
  {
   "cell_type": "markdown",
   "id": "bf932e50",
   "metadata": {},
   "source": [
    " ## Initializing Parameters\n",
    " To demonstrate this model, we will use a `Params` object from the modsim library, that we will later use to create a `System` object. We will store all of our relevant data to refer to for our model implementation and execution. "
   ]
  },
  {
   "cell_type": "markdown",
   "id": "0a33a6d1",
   "metadata": {},
   "source": [
    "**Scenario 1**: Quarter dropped from the [Empire State Buidling, 381m in height](https://thetowerinfo.com/buildings-list/empire-state-building/)\n",
    "\n",
    "(note: the mass of a quarter is approximately [0.0055 kg](https://www.webpages.uidaho.edu/dl2/on_target/mass_of_quarter.htm) and diameter [0.0243 m](https://www.usmint.gov/coins/coin-medal-programs/circulating-coins/quarter))"
   ]
  },
  {
   "cell_type": "code",
   "execution_count": 4,
   "id": "347683fa",
   "metadata": {},
   "outputs": [
    {
     "data": {
      "text/html": [
       "<div>\n",
       "<style scoped>\n",
       "    .dataframe tbody tr th:only-of-type {\n",
       "        vertical-align: middle;\n",
       "    }\n",
       "\n",
       "    .dataframe tbody tr th {\n",
       "        vertical-align: top;\n",
       "    }\n",
       "\n",
       "    .dataframe thead th {\n",
       "        text-align: right;\n",
       "    }\n",
       "</style>\n",
       "<table border=\"1\" class=\"dataframe\">\n",
       "  <thead>\n",
       "    <tr style=\"text-align: right;\">\n",
       "      <th></th>\n",
       "      <th>value</th>\n",
       "    </tr>\n",
       "  </thead>\n",
       "  <tbody>\n",
       "    <tr>\n",
       "      <th>height</th>\n",
       "      <td>381.0000</td>\n",
       "    </tr>\n",
       "    <tr>\n",
       "      <th>v_init</th>\n",
       "      <td>0.0000</td>\n",
       "    </tr>\n",
       "    <tr>\n",
       "      <th>g</th>\n",
       "      <td>9.8000</td>\n",
       "    </tr>\n",
       "    <tr>\n",
       "      <th>mass</th>\n",
       "      <td>0.0055</td>\n",
       "    </tr>\n",
       "    <tr>\n",
       "      <th>diameter</th>\n",
       "      <td>0.0243</td>\n",
       "    </tr>\n",
       "    <tr>\n",
       "      <th>rho</th>\n",
       "      <td>1.2250</td>\n",
       "    </tr>\n",
       "    <tr>\n",
       "      <th>t_end</th>\n",
       "      <td>30.0000</td>\n",
       "    </tr>\n",
       "    <tr>\n",
       "      <th>C_d</th>\n",
       "      <td>1.1200</td>\n",
       "    </tr>\n",
       "  </tbody>\n",
       "</table>\n",
       "</div>"
      ],
      "text/plain": [
       "             value\n",
       "height    381.0000\n",
       "v_init      0.0000\n",
       "g           9.8000\n",
       "mass        0.0055\n",
       "diameter    0.0243\n",
       "rho         1.2250\n",
       "t_end      30.0000\n",
       "C_d         1.1200"
      ]
     },
     "execution_count": 4,
     "metadata": {},
     "output_type": "execute_result"
    }
   ],
   "source": [
    "params_quarter_high = Params(height = 381,     # m\n",
    "                v_init = 0,       # m / s\n",
    "                g = 9.8,          # m/s**2\n",
    "                mass = 5.5e-3,    # kg\n",
    "                diameter = 24.3e-3, # m\n",
    "                rho = 1.225,        # kg/m**2\n",
    "                t_end = 30,      # seconds \n",
    "                C_d = 1.12\n",
    "               )\n",
    "\n",
    "show(params_quarter_high)"
   ]
  },
  {
   "cell_type": "markdown",
   "id": "979cf279",
   "metadata": {},
   "source": [
    "Above, we observe 3 variables: *rho*, *C<sub>d*, and *g*\n",
    "    \n",
    "***rho*** (ρ) is the density of the atmosphere that the object is falling through. In this case, 1.225 represents the outside air.\n",
    "    \n",
    "***C<sub>d*** is the coefficient of drag, the [friction constant](https://www.britannica.com/science/coefficient-of-friction#:~:text=coefficient%20of%20friction%2C%20ratio%20of,N%20is%20the%20normal%20force.) of air\n",
    "    \n",
    "***g*** is the acceleration due to gravity on earth, 9.81 m/s<sup>2</sup>"
   ]
  },
  {
   "cell_type": "markdown",
   "id": "6920a77c",
   "metadata": {},
   "source": [
    "**Scenario 2**: Quarter dropped from the [Dreyfuss Building, 5m in height](https://www.fdu.edu/campuses/florham-campus/maps-directions/)"
   ]
  },
  {
   "cell_type": "code",
   "execution_count": 5,
   "id": "c38a6bc4",
   "metadata": {},
   "outputs": [
    {
     "data": {
      "text/html": [
       "<div>\n",
       "<style scoped>\n",
       "    .dataframe tbody tr th:only-of-type {\n",
       "        vertical-align: middle;\n",
       "    }\n",
       "\n",
       "    .dataframe tbody tr th {\n",
       "        vertical-align: top;\n",
       "    }\n",
       "\n",
       "    .dataframe thead th {\n",
       "        text-align: right;\n",
       "    }\n",
       "</style>\n",
       "<table border=\"1\" class=\"dataframe\">\n",
       "  <thead>\n",
       "    <tr style=\"text-align: right;\">\n",
       "      <th></th>\n",
       "      <th>value</th>\n",
       "    </tr>\n",
       "  </thead>\n",
       "  <tbody>\n",
       "    <tr>\n",
       "      <th>height</th>\n",
       "      <td>5.0000</td>\n",
       "    </tr>\n",
       "    <tr>\n",
       "      <th>v_init</th>\n",
       "      <td>0.0000</td>\n",
       "    </tr>\n",
       "    <tr>\n",
       "      <th>g</th>\n",
       "      <td>9.8000</td>\n",
       "    </tr>\n",
       "    <tr>\n",
       "      <th>mass</th>\n",
       "      <td>0.0055</td>\n",
       "    </tr>\n",
       "    <tr>\n",
       "      <th>diameter</th>\n",
       "      <td>0.0243</td>\n",
       "    </tr>\n",
       "    <tr>\n",
       "      <th>rho</th>\n",
       "      <td>1.2250</td>\n",
       "    </tr>\n",
       "    <tr>\n",
       "      <th>t_end</th>\n",
       "      <td>30.0000</td>\n",
       "    </tr>\n",
       "    <tr>\n",
       "      <th>C_d</th>\n",
       "      <td>1.1200</td>\n",
       "    </tr>\n",
       "  </tbody>\n",
       "</table>\n",
       "</div>"
      ],
      "text/plain": [
       "            value\n",
       "height     5.0000\n",
       "v_init     0.0000\n",
       "g          9.8000\n",
       "mass       0.0055\n",
       "diameter   0.0243\n",
       "rho        1.2250\n",
       "t_end     30.0000\n",
       "C_d        1.1200"
      ]
     },
     "execution_count": 5,
     "metadata": {},
     "output_type": "execute_result"
    }
   ],
   "source": [
    "params_quarter_low = Params(height = 5,     # m\n",
    "                v_init = 0,       # m / s\n",
    "                g = 9.8,          # m/s**2\n",
    "                mass = 5.5e-3,    # kg\n",
    "                diameter = 24.3e-3, # m\n",
    "                rho = 1.225,        # kg/m**2\n",
    "                t_end = 30,      # seconds \n",
    "                C_d = 1.12\n",
    "               )\n",
    "\n",
    "show(params_quarter_low)"
   ]
  },
  {
   "cell_type": "markdown",
   "id": "204e6965",
   "metadata": {},
   "source": [
    "**Scenario 3**: Penny dropped from the Empire State Buidling, 381m in height\n",
    "\n",
    "(note: the mass of a penny is approximately [0.0025 kg](https://www.usmint.gov/coins/coin-medal-programs/circulating-coins/penny) and diameter [0.019 m](https://www.usmint.gov/coins/coin-medal-programs/circulating-coins/penny))"
   ]
  },
  {
   "cell_type": "code",
   "execution_count": 6,
   "id": "6cebd368",
   "metadata": {},
   "outputs": [
    {
     "data": {
      "text/html": [
       "<div>\n",
       "<style scoped>\n",
       "    .dataframe tbody tr th:only-of-type {\n",
       "        vertical-align: middle;\n",
       "    }\n",
       "\n",
       "    .dataframe tbody tr th {\n",
       "        vertical-align: top;\n",
       "    }\n",
       "\n",
       "    .dataframe thead th {\n",
       "        text-align: right;\n",
       "    }\n",
       "</style>\n",
       "<table border=\"1\" class=\"dataframe\">\n",
       "  <thead>\n",
       "    <tr style=\"text-align: right;\">\n",
       "      <th></th>\n",
       "      <th>value</th>\n",
       "    </tr>\n",
       "  </thead>\n",
       "  <tbody>\n",
       "    <tr>\n",
       "      <th>height</th>\n",
       "      <td>381.0000</td>\n",
       "    </tr>\n",
       "    <tr>\n",
       "      <th>v_init</th>\n",
       "      <td>0.0000</td>\n",
       "    </tr>\n",
       "    <tr>\n",
       "      <th>g</th>\n",
       "      <td>9.8000</td>\n",
       "    </tr>\n",
       "    <tr>\n",
       "      <th>mass</th>\n",
       "      <td>0.0025</td>\n",
       "    </tr>\n",
       "    <tr>\n",
       "      <th>diameter</th>\n",
       "      <td>0.0190</td>\n",
       "    </tr>\n",
       "    <tr>\n",
       "      <th>rho</th>\n",
       "      <td>1.2000</td>\n",
       "    </tr>\n",
       "    <tr>\n",
       "      <th>t_end</th>\n",
       "      <td>30.0000</td>\n",
       "    </tr>\n",
       "    <tr>\n",
       "      <th>C_d</th>\n",
       "      <td>1.1200</td>\n",
       "    </tr>\n",
       "  </tbody>\n",
       "</table>\n",
       "</div>"
      ],
      "text/plain": [
       "             value\n",
       "height    381.0000\n",
       "v_init      0.0000\n",
       "g           9.8000\n",
       "mass        0.0025\n",
       "diameter    0.0190\n",
       "rho         1.2000\n",
       "t_end      30.0000\n",
       "C_d         1.1200"
      ]
     },
     "execution_count": 6,
     "metadata": {},
     "output_type": "execute_result"
    }
   ],
   "source": [
    "params_penny_high = Params(height = 381,     # m\n",
    "                v_init = 0,       # m / s\n",
    "                g = 9.8,          # m/s**2\n",
    "                mass = 2.5e-3,    # kg\n",
    "                diameter = 19e-3, # m\n",
    "                rho = 1.2,        # kg/m**3\n",
    "                t_end = 30,      # seconds \n",
    "                C_d = 1.12,\n",
    "               )\n",
    "show(params_penny_high)"
   ]
  },
  {
   "cell_type": "markdown",
   "id": "bfaf2d7f",
   "metadata": {},
   "source": [
    "**Scenario 4**: Penny dropped from the Dreyfuss Buidling, 5m in height"
   ]
  },
  {
   "cell_type": "code",
   "execution_count": 7,
   "id": "b2e9df76",
   "metadata": {},
   "outputs": [
    {
     "data": {
      "text/html": [
       "<div>\n",
       "<style scoped>\n",
       "    .dataframe tbody tr th:only-of-type {\n",
       "        vertical-align: middle;\n",
       "    }\n",
       "\n",
       "    .dataframe tbody tr th {\n",
       "        vertical-align: top;\n",
       "    }\n",
       "\n",
       "    .dataframe thead th {\n",
       "        text-align: right;\n",
       "    }\n",
       "</style>\n",
       "<table border=\"1\" class=\"dataframe\">\n",
       "  <thead>\n",
       "    <tr style=\"text-align: right;\">\n",
       "      <th></th>\n",
       "      <th>value</th>\n",
       "    </tr>\n",
       "  </thead>\n",
       "  <tbody>\n",
       "    <tr>\n",
       "      <th>height</th>\n",
       "      <td>5.0000</td>\n",
       "    </tr>\n",
       "    <tr>\n",
       "      <th>v_init</th>\n",
       "      <td>0.0000</td>\n",
       "    </tr>\n",
       "    <tr>\n",
       "      <th>g</th>\n",
       "      <td>9.8000</td>\n",
       "    </tr>\n",
       "    <tr>\n",
       "      <th>mass</th>\n",
       "      <td>0.0025</td>\n",
       "    </tr>\n",
       "    <tr>\n",
       "      <th>diameter</th>\n",
       "      <td>0.0190</td>\n",
       "    </tr>\n",
       "    <tr>\n",
       "      <th>rho</th>\n",
       "      <td>1.2000</td>\n",
       "    </tr>\n",
       "    <tr>\n",
       "      <th>t_end</th>\n",
       "      <td>30.0000</td>\n",
       "    </tr>\n",
       "    <tr>\n",
       "      <th>C_d</th>\n",
       "      <td>1.1200</td>\n",
       "    </tr>\n",
       "  </tbody>\n",
       "</table>\n",
       "</div>"
      ],
      "text/plain": [
       "            value\n",
       "height     5.0000\n",
       "v_init     0.0000\n",
       "g          9.8000\n",
       "mass       0.0025\n",
       "diameter   0.0190\n",
       "rho        1.2000\n",
       "t_end     30.0000\n",
       "C_d        1.1200"
      ]
     },
     "execution_count": 7,
     "metadata": {},
     "output_type": "execute_result"
    }
   ],
   "source": [
    "params_penny_low = Params(height = 5,     # m\n",
    "                v_init = 0,       # m / s\n",
    "                g = 9.8,          # m/s**2\n",
    "                mass = 2.5e-3,    # kg\n",
    "                diameter = 19e-3, # m\n",
    "                rho = 1.2,        # kg/m**3\n",
    "                t_end = 30,      # seconds \n",
    "                C_d = 1.12,\n",
    "               )\n",
    "show(params_penny_low)"
   ]
  },
  {
   "cell_type": "markdown",
   "id": "3485e344",
   "metadata": {},
   "source": [
    "# Defining Functions"
   ]
  },
  {
   "cell_type": "markdown",
   "id": "3eb50025",
   "metadata": {},
   "source": [
    "### Initializaton Functons"
   ]
  },
  {
   "cell_type": "code",
   "execution_count": 8,
   "id": "4349af5b",
   "metadata": {},
   "outputs": [],
   "source": [
    "def cal_area(diameter):\n",
    "    '''\n",
    "    Helper function that calculates area of coin object given diameter\n",
    "    \n",
    "    diameter = float\n",
    "    \n",
    "    returns: value of area\n",
    "    '''\n",
    "    radius = diameter/2\n",
    "    return (radius**2)*np.pi"
   ]
  },
  {
   "cell_type": "code",
   "execution_count": 9,
   "id": "03060e8c",
   "metadata": {},
   "outputs": [],
   "source": [
    "def cal_term_vel(mass, g, C_d, rho, area):\n",
    "    '''\n",
    "    Calculates terminal velocity of system\n",
    "    \n",
    "    mass = float\n",
    "    g = float\n",
    "    C_d = float\n",
    "    rho = float\n",
    "    area = float\n",
    "    \n",
    "    returns: value of terminal velocity\n",
    "    '''\n",
    "    term_vel = math.sqrt((2*mass*g)/(C_d*rho*area))\n",
    "    return term_vel"
   ]
  },
  {
   "cell_type": "code",
   "execution_count": 10,
   "id": "0a9d6f66",
   "metadata": {},
   "outputs": [],
   "source": [
    "def make_system(params):\n",
    "    '''\n",
    "    Makes a System object for the given conditions.\n",
    "    \n",
    "    params = Params object\n",
    "    \n",
    "    returns: System object\n",
    "    '''\n",
    "    area = cal_area(params.diameter)\n",
    "    \n",
    "    v_term = cal_term_vel(params.mass, params.g, params.C_d, params.rho, area)\n",
    "    \n",
    "    diameter, mass = params.diameter, params.mass\n",
    "    g, rho = params.g, params.rho, \n",
    "    \n",
    "    v_init, C_d = params.v_init, params.C_d\n",
    "    \n",
    "    \n",
    "    height = params.height\n",
    "    init = State(y=height, v=v_init)\n",
    "    t_0 = 0\n",
    "    t_end = 35\n",
    "    dt = 0.1\n",
    "    \n",
    "    return System(params, area=area, C_d=C_d, \n",
    "                  init=init, t_0=t_0,t_end=t_end, dt=dt, v_term = v_term)"
   ]
  },
  {
   "cell_type": "markdown",
   "id": "857daa02",
   "metadata": {},
   "source": [
    "### Simulation Functions"
   ]
  },
  {
   "cell_type": "code",
   "execution_count": 11,
   "id": "4a964ade",
   "metadata": {},
   "outputs": [],
   "source": [
    "def update_func(state, t, system):\n",
    "    '''\n",
    "    Updates the model, utilized for a simulation.\n",
    "    \n",
    "    state = position, velocity\n",
    "    t = time\n",
    "    system = System object containing `g`\n",
    "    \n",
    "    returns = State object containing position and velocity\n",
    "    '''\n",
    "    y, v = state\n",
    "    g = system.g\n",
    "    dt = system.dt\n",
    "    f_drag = system.rho * v**2 * system.C_d * system.area / 2\n",
    "    a_drag = f_drag / system.mass\n",
    "\n",
    "    y_new = y + v*dt\n",
    "    v_new = v - system.g*dt + a_drag*dt\n",
    "\n",
    "    return State(y=y_new, v=v_new)"
   ]
  },
  {
   "cell_type": "code",
   "execution_count": 12,
   "id": "12cbc00f",
   "metadata": {},
   "outputs": [],
   "source": [
    "def run_simulation(system, update_func):\n",
    "    '''\n",
    "    Runs the simulation for the model\n",
    "    \n",
    "    system = system object of model\n",
    "    update_func = update function of model\n",
    "    \n",
    "    returns = TimeFrame object\n",
    "    '''\n",
    "    t_array = linrange(system.t_0, system.t_end, system.dt)\n",
    "    n = len(t_array)\n",
    "    \n",
    "    frame = TimeFrame(index=t_array, \n",
    "                      columns=system.init.index)\n",
    "    frame.iloc[0] = system.init\n",
    "    \n",
    "    for i in range(n-1):\n",
    "        t = t_array[i]\n",
    "        state = frame.iloc[i]\n",
    "        if state.y <= 0:\n",
    "            break \n",
    "        frame.iloc[i+1] = update_func(state, t, system)\n",
    "        \n",
    "    \n",
    "    return frame"
   ]
  },
  {
   "cell_type": "markdown",
   "id": "f0f7ad5d",
   "metadata": {},
   "source": [
    "We add the condition `if state.y <= 0` to `break` to stop the simulation when the object hits the ground.  Since calculations happen step by step, we can't precisely stop at 0 but regardless we massively declutter the future plots from impossible data given our scenario"
   ]
  },
  {
   "cell_type": "markdown",
   "id": "acbd6a9d",
   "metadata": {},
   "source": [
    "### Analysis Functions"
   ]
  },
  {
   "cell_type": "markdown",
   "id": "b6532f80",
   "metadata": {},
   "source": [
    "The main difference between an analysis model and a simulation model is characterized by *solving* the mathematical constructs that we use to build the simulation model. `slope_func` will directly express the two respective equations for position and time. Using the SimPy library's [ODE](https://en.wikipedia.org/wiki/Ordinary_differential_equation) solver, we can create this model:"
   ]
  },
  {
   "cell_type": "code",
   "execution_count": 13,
   "id": "19961745",
   "metadata": {},
   "outputs": [],
   "source": [
    "def slope_func(t, state, system):\n",
    "    '''\n",
    "    Computes the derivatives of the state.\n",
    "    \n",
    "    state = position, velocity\n",
    "    t = time\n",
    "    system = System object\n",
    "    \n",
    "    returns = derivatives of y and v\n",
    "    '''\n",
    "    y, v = state\n",
    "    rho, C_d, g = system.rho, system.C_d, system.g\n",
    "    area, mass = system.area, system.mass\n",
    "    \n",
    "    f_drag = rho * v**2 * C_d * area / 2\n",
    "    a_drag = f_drag / mass\n",
    "    \n",
    "    dydt = v\n",
    "    dvdt = -g + a_drag\n",
    "    \n",
    "    return dydt, dvdt"
   ]
  },
  {
   "cell_type": "code",
   "execution_count": 14,
   "id": "69bf0bdc",
   "metadata": {},
   "outputs": [],
   "source": [
    "def event_func(t, state, system):\n",
    "    '''\n",
    "    Return the height of the penny above the sidewalk. Used to create a termination event in the ODE solver\n",
    "    \n",
    "    t = int\n",
    "    state = state object\n",
    "    system = System object\n",
    "    \n",
    "    returns = position (y)\n",
    "    \n",
    "    '''\n",
    "    y, v = state\n",
    "    return y"
   ]
  },
  {
   "cell_type": "markdown",
   "id": "d4d175bc",
   "metadata": {},
   "source": [
    "### Plotting Functions"
   ]
  },
  {
   "cell_type": "code",
   "execution_count": 15,
   "id": "9e9ec813",
   "metadata": {},
   "outputs": [],
   "source": [
    "def plot_position(results1, results2, title):\n",
    "    '''\n",
    "    Plots 2 position resultant data\n",
    "    \n",
    "    results1 = TimeFrame object, penny\n",
    "    \n",
    "    results2 = TimeFrame object, quarter\n",
    "    \n",
    "    '''\n",
    "    results1.y.plot(label = 'Penny Height')\n",
    "    results2.y.plot(label = 'Quarter Height')\n",
    "    decorate(xlabel='Time (s)',\n",
    "             ylabel='Position (m)', title = title)\n",
    "    plt.grid()"
   ]
  },
  {
   "cell_type": "markdown",
   "id": "84b8af2a",
   "metadata": {},
   "source": [
    "`plt.grid()` is a matplotlib function that adds a grid to the plot when created"
   ]
  },
  {
   "cell_type": "code",
   "execution_count": 16,
   "id": "8996c899",
   "metadata": {},
   "outputs": [],
   "source": [
    "def plot_velocity(results1, results2, title):\n",
    "    '''\n",
    "    Plots 2 velocity resultant data\n",
    "    \n",
    "    results1 = TimeFrame object, penny\n",
    "    \n",
    "    results2 = TimeFrame object, quarter\n",
    "    \n",
    "    '''\n",
    "    results1.v.plot(label='Penny Velocity')\n",
    "    results2.v.plot(label = 'Quarter Velocity')\n",
    "    decorate(xlabel='Time (s)', ylabel='Velocity (m/s)', title= title)\n",
    "    plt.grid()"
   ]
  },
  {
   "cell_type": "markdown",
   "id": "0e4631ec",
   "metadata": {},
   "source": [
    "## Running the Model\n",
    "We are now ready to run our model given our scenarios. let's create the `System` objects for our respective scenarios:"
   ]
  },
  {
   "cell_type": "code",
   "execution_count": 17,
   "id": "c8ddbbb3",
   "metadata": {},
   "outputs": [
    {
     "data": {
      "text/plain": [
       "namespace(height=5,\n",
       "          v_init=0,\n",
       "          g=9.8,\n",
       "          mass=0.0025,\n",
       "          diameter=0.019,\n",
       "          rho=1.2,\n",
       "          t_end=35,\n",
       "          C_d=1.12,\n",
       "          area=0.0002835287369864788,\n",
       "          init=y    5\n",
       "               v    0\n",
       "               Name: state, dtype: int64,\n",
       "          t_0=0,\n",
       "          dt=0.1,\n",
       "          v_term=11.339655582952656)"
      ]
     },
     "execution_count": 17,
     "metadata": {},
     "output_type": "execute_result"
    }
   ],
   "source": [
    "quarter_high_sys = make_system(params_quarter_high)\n",
    "quarter_low_sys = make_system(params_quarter_low)\n",
    "penny_high_sys = make_system(params_penny_high)\n",
    "penny_low_sys = make_system(params_penny_low)"
   ]
  },
  {
   "cell_type": "markdown",
   "id": "2933d88a",
   "metadata": {},
   "source": [
    "Now, lets run the simulations:"
   ]
  },
  {
   "cell_type": "code",
   "execution_count": 18,
   "id": "fb2995a8",
   "metadata": {
    "scrolled": false
   },
   "outputs": [
    {
     "data": {
      "text/html": [
       "<div>\n",
       "<style scoped>\n",
       "    .dataframe tbody tr th:only-of-type {\n",
       "        vertical-align: middle;\n",
       "    }\n",
       "\n",
       "    .dataframe tbody tr th {\n",
       "        vertical-align: top;\n",
       "    }\n",
       "\n",
       "    .dataframe thead th {\n",
       "        text-align: right;\n",
       "    }\n",
       "</style>\n",
       "<table border=\"1\" class=\"dataframe\">\n",
       "  <thead>\n",
       "    <tr style=\"text-align: right;\">\n",
       "      <th></th>\n",
       "      <th>y</th>\n",
       "      <th>v</th>\n",
       "    </tr>\n",
       "  </thead>\n",
       "  <tbody>\n",
       "    <tr>\n",
       "      <th>0.0</th>\n",
       "      <td>5.000000</td>\n",
       "      <td>0.000000</td>\n",
       "    </tr>\n",
       "    <tr>\n",
       "      <th>0.1</th>\n",
       "      <td>5.000000</td>\n",
       "      <td>-0.980000</td>\n",
       "    </tr>\n",
       "    <tr>\n",
       "      <th>0.2</th>\n",
       "      <td>4.902000</td>\n",
       "      <td>-1.952681</td>\n",
       "    </tr>\n",
       "    <tr>\n",
       "      <th>0.3</th>\n",
       "      <td>4.706732</td>\n",
       "      <td>-2.903621</td>\n",
       "    </tr>\n",
       "    <tr>\n",
       "      <th>0.4</th>\n",
       "      <td>4.416370</td>\n",
       "      <td>-3.819366</td>\n",
       "    </tr>\n",
       "    <tr>\n",
       "      <th>...</th>\n",
       "      <td>...</td>\n",
       "      <td>...</td>\n",
       "    </tr>\n",
       "    <tr>\n",
       "      <th>34.6</th>\n",
       "      <td>NaN</td>\n",
       "      <td>NaN</td>\n",
       "    </tr>\n",
       "    <tr>\n",
       "      <th>34.7</th>\n",
       "      <td>NaN</td>\n",
       "      <td>NaN</td>\n",
       "    </tr>\n",
       "    <tr>\n",
       "      <th>34.8</th>\n",
       "      <td>NaN</td>\n",
       "      <td>NaN</td>\n",
       "    </tr>\n",
       "    <tr>\n",
       "      <th>34.9</th>\n",
       "      <td>NaN</td>\n",
       "      <td>NaN</td>\n",
       "    </tr>\n",
       "    <tr>\n",
       "      <th>35.0</th>\n",
       "      <td>NaN</td>\n",
       "      <td>NaN</td>\n",
       "    </tr>\n",
       "  </tbody>\n",
       "</table>\n",
       "<p>351 rows × 2 columns</p>\n",
       "</div>"
      ],
      "text/plain": [
       "             y         v\n",
       "0.0   5.000000  0.000000\n",
       "0.1   5.000000 -0.980000\n",
       "0.2   4.902000 -1.952681\n",
       "0.3   4.706732 -2.903621\n",
       "0.4   4.416370 -3.819366\n",
       "...        ...       ...\n",
       "34.6       NaN       NaN\n",
       "34.7       NaN       NaN\n",
       "34.8       NaN       NaN\n",
       "34.9       NaN       NaN\n",
       "35.0       NaN       NaN\n",
       "\n",
       "[351 rows x 2 columns]"
      ]
     },
     "execution_count": 18,
     "metadata": {},
     "output_type": "execute_result"
    }
   ],
   "source": [
    "results_quarter_high_sim = run_simulation(quarter_high_sys,update_func)\n",
    "results_penny_high_sim =  run_simulation(penny_high_sys,update_func)\n",
    "results_quarter_low_sim = run_simulation(quarter_low_sys,update_func)\n",
    "results_penny_low_sim = run_simulation(penny_low_sys,update_func)"
   ]
  },
  {
   "cell_type": "markdown",
   "id": "a6f11a94",
   "metadata": {},
   "source": [
    "And now for the analysis model:"
   ]
  },
  {
   "cell_type": "code",
   "execution_count": 19,
   "id": "6761ae70",
   "metadata": {},
   "outputs": [
    {
     "data": {
      "text/plain": [
       "  message: 'A termination event occurred.'\n",
       "     nfev: 32\n",
       "     njev: 0\n",
       "      nlu: 0\n",
       "      sol: <scipy.integrate._ivp.common.OdeSolution object at 0x7fd3c8b21e20>\n",
       "   status: 1\n",
       "  success: True\n",
       " t_events: [array([1.07551082])]\n",
       " y_events: [array([[-3.55271368e-15, -8.28386983e+00]])]"
      ]
     },
     "execution_count": 19,
     "metadata": {},
     "output_type": "execute_result"
    }
   ],
   "source": [
    "results_quarter_high_ode, details = run_solve_ivp(quarter_high_sys, slope_func, events=event_func)\n",
    "details\n",
    "results_penny_high_ode, details = run_solve_ivp(penny_high_sys, slope_func, events=event_func)\n",
    "details\n",
    "results_quarter_low_ode, details = run_solve_ivp(quarter_low_sys, slope_func, events=event_func)\n",
    "details\n",
    "results_penny_low_ode, details = run_solve_ivp(penny_low_sys, slope_func, events=event_func)\n",
    "details"
   ]
  },
  {
   "cell_type": "markdown",
   "id": "c295f38f",
   "metadata": {},
   "source": [
    "The 'termination event' exectues when y position is at 0, which eliminates irrelevant and impossible values for our experiment. "
   ]
  },
  {
   "cell_type": "markdown",
   "id": "e204d2d7",
   "metadata": {},
   "source": [
    "## Plotting and Findings"
   ]
  },
  {
   "cell_type": "code",
   "execution_count": 20,
   "id": "17736e16",
   "metadata": {
    "scrolled": false
   },
   "outputs": [
    {
     "data": {
      "text/plain": [
       "Text(0, 100, 'Penny at sidewalk')"
      ]
     },
     "execution_count": 20,
     "metadata": {},
     "output_type": "execute_result"
    },
    {
     "data": {
      "image/png": "[encoded data removed]",
      "text/plain": [
       "<Figure size 450x300 with 1 Axes>"
      ]
     },
     "metadata": {},
     "output_type": "display_data"
    }
   ],
   "source": [
    "#Position - Simulation with 381 m height\n",
    "\n",
    "plot_position(results_penny_high_sim, results_quarter_high_sim, 'Position - Simulation with 381 m height, Mercado')\n",
    "plt.annotate('Quarter at sidewalk', xy=(30, 0), xytext=(0, 0), arrowprops=dict(arrowstyle=\"->\"))\n",
    "plt.annotate('Penny at sidewalk', xy=(34.5, 0), xytext=(0, 100), arrowprops=dict(arrowstyle=\"->\"))"
   ]
  },
  {
   "cell_type": "markdown",
   "id": "28fba646",
   "metadata": {},
   "source": [
    "Above, we see that the Quarter hits the ground a couple of seconds before the quarter does. This observation is consitant with [Newtons Second Law](https://www.khanacademy.org/science/hs-physics/x215e29cb31244fa1:forces-and-motion/x215e29cb31244fa1:force-mass-and-acceleration/v/newton-s-second-law-of-motion#:~:text=Newton%27s%20second%20law%20of%20motion%20states%20that%20F%20%3D%20ma%2C%20or,require%20more%20force%20to%20accelerate.) and the [Work Energy Theorem](https://www.khanacademy.org/science/in-in-class11th-physics/in-in-class11th-physics-work-energy-and-power/in-in-class11-work-energy-theorem/a/work-energy-theorem-ap1#:~:text=Sometimes%20people%20forget%20that%20the,change%20in%20its%20kinetic%20energy.), as the mass of the quarter is larger, increasing it's force falling and subsiquently the amount of energy it's producing, linked to vector of velocity by the [Conservation of Energy](https://www.khanacademy.org/science/physics/work-and-energy/work-and-energy-tutorial/a/what-is-conservation-of-energy). Now let's compare our simulation with our analysis model:"
   ]
  },
  {
   "cell_type": "code",
   "execution_count": 21,
   "id": "ae66e2ae",
   "metadata": {
    "scrolled": true
   },
   "outputs": [
    {
     "data": {
      "image/png": "[encoded data removed]",
      "text/plain": [
       "<Figure size 450x300 with 1 Axes>"
      ]
     },
     "metadata": {},
     "output_type": "display_data"
    }
   ],
   "source": [
    "#Position - ODE with 381 m height\n",
    "\n",
    "plot_position(results_penny_high_ode, results_quarter_high_ode, 'Position - Analysis with 381 m height, Mercado')"
   ]
  },
  {
   "cell_type": "markdown",
   "id": "13ccb142",
   "metadata": {},
   "source": [
    "Looks identical to our simulation! Not surpising at all because both of our models are based on the same equation! Let's run a percent error test for the position of the penny to judge the accuracy each model has on eachother:"
   ]
  },
  {
   "cell_type": "code",
   "execution_count": 22,
   "id": "1bc8d50e",
   "metadata": {},
   "outputs": [],
   "source": [
    "def percent_error(res1, res2):\n",
    "    '''\n",
    "    helper function that calculates percent error of two numbers\n",
    "    \n",
    "    res1 = float\n",
    "    res2 = float\n",
    "    \n",
    "    returns = float\n",
    "    '''\n",
    "    \n",
    "    greater = max(res1,res2)\n",
    "    smaller = min(res1,res2)\n",
    "    return ((greater-smaller)/smaller)*100\n",
    "    "
   ]
  },
  {
   "cell_type": "code",
   "execution_count": 23,
   "id": "14ad7cc6",
   "metadata": {},
   "outputs": [
    {
     "data": {
      "text/plain": [
       "0.000000     3.810000e+02\n",
       "0.344005     3.804262e+02\n",
       "0.688009     3.788056e+02\n",
       "1.032014     3.763560e+02\n",
       "1.376019     3.733311e+02\n",
       "                 ...     \n",
       "33.024446    1.560081e+01\n",
       "33.368451    1.170331e+01\n",
       "33.712455    7.805215e+00\n",
       "34.056460    3.904093e+00\n",
       "34.400465   -3.197442e-14\n",
       "Name: y, Length: 101, dtype: float64"
      ]
     },
     "execution_count": 23,
     "metadata": {},
     "output_type": "execute_result"
    }
   ],
   "source": [
    "results_penny_high_ode.y"
   ]
  },
  {
   "cell_type": "markdown",
   "id": "e104e68e",
   "metadata": {},
   "source": [
    "Due to the approximation of linrange, we must choose one of the above time values to compare to in our simulation. Even then, `dt` in the simulation only accounted for 0.1 steps in time, so we must round our value *34.056460* up. \n",
    "\n",
    "note: we omit the last value as it is negative therefore unrepresentative to the experiment"
   ]
  },
  {
   "cell_type": "code",
   "execution_count": 24,
   "id": "e64d7c95",
   "metadata": {},
   "outputs": [
    {
     "data": {
      "text/plain": [
       "3.641787213707986"
      ]
     },
     "execution_count": 24,
     "metadata": {},
     "output_type": "execute_result"
    }
   ],
   "source": [
    "results_penny_high_sim.y[34.1]"
   ]
  },
  {
   "cell_type": "code",
   "execution_count": 25,
   "id": "8a8b5b37",
   "metadata": {},
   "outputs": [
    {
     "name": "stdout",
     "output_type": "stream",
     "text": [
      "7.202666462902436 %\n"
     ]
    }
   ],
   "source": [
    "sim=3.641787213707986\n",
    "ode=3.904093e+00\n",
    "\n",
    "print(percent_error(sim,ode),'%')"
   ]
  },
  {
   "cell_type": "markdown",
   "id": "18afee99",
   "metadata": {},
   "source": [
    "A low percentage as we predicted! Now, let's plot the Velocities:"
   ]
  },
  {
   "cell_type": "code",
   "execution_count": 26,
   "id": "a2044ecc",
   "metadata": {},
   "outputs": [
    {
     "data": {
      "text/plain": [
       "Text(7, -5, 'Reaches Terminal Velocity')"
      ]
     },
     "execution_count": 26,
     "metadata": {},
     "output_type": "execute_result"
    },
    {
     "data": {
      "image/png": "[encoded data removed]",
      "text/plain": [
       "<Figure size 450x300 with 1 Axes>"
      ]
     },
     "metadata": {},
     "output_type": "display_data"
    }
   ],
   "source": [
    "#Velocity - Simulation with 381 m height\n",
    "\n",
    "plot_velocity(results_penny_high_sim, results_quarter_high_sim, 'Velocity - Simulation with 381 m height, Mercado')\n",
    "plt.annotate('Reaches Terminal Velocity', xy=(3, -11.3), xytext=(1, -1), arrowprops=dict(arrowstyle=\"->\"))\n",
    "plt.annotate('Reaches Terminal Velocity', xy=(3, -13), xytext=(7, -5), arrowprops=dict(arrowstyle=\"->\"))"
   ]
  },
  {
   "cell_type": "code",
   "execution_count": 27,
   "id": "247351f4",
   "metadata": {},
   "outputs": [
    {
     "data": {
      "image/png": "[encoded data removed]",
      "text/plain": [
       "<Figure size 450x300 with 1 Axes>"
      ]
     },
     "metadata": {},
     "output_type": "display_data"
    }
   ],
   "source": [
    "#Velocity - Analysis with 381 m height \n",
    "plot_velocity(results_penny_high_ode, results_quarter_high_ode, 'Velocity - Analysis with 381 m height, Mercado')"
   ]
  },
  {
   "cell_type": "markdown",
   "id": "3c84237a",
   "metadata": {},
   "source": [
    "As a part of our `make_system` function, it was made to calculate it's [terminal velocity](https://www.grc.nasa.gov/www/k-12/VirtualAero/BottleRocket/airplane/termv.html), `v_term`. Let's compare the terminal velocity that was found in our models, and the one that was calculated by `cal_term_vel`:"
   ]
  },
  {
   "cell_type": "code",
   "execution_count": 28,
   "id": "5f3dea17",
   "metadata": {},
   "outputs": [
    {
     "data": {
      "text/plain": [
       "-11.339655582952654"
      ]
     },
     "execution_count": 28,
     "metadata": {},
     "output_type": "execute_result"
    }
   ],
   "source": [
    "results_penny_high_sim.v[34.1]"
   ]
  },
  {
   "cell_type": "code",
   "execution_count": 29,
   "id": "72bb0422",
   "metadata": {},
   "outputs": [
    {
     "data": {
      "text/plain": [
       "0.000000      0.000000\n",
       "0.344005     -3.273362\n",
       "0.688009     -6.045179\n",
       "1.032014     -8.079614\n",
       "1.376019     -9.419357\n",
       "               ...    \n",
       "33.024446   -11.333738\n",
       "33.368451   -11.339608\n",
       "33.712455   -11.344476\n",
       "34.056460   -11.344098\n",
       "34.400465   -11.338571\n",
       "Name: v, Length: 101, dtype: float64"
      ]
     },
     "execution_count": 29,
     "metadata": {},
     "output_type": "execute_result"
    }
   ],
   "source": [
    "results_penny_high_ode.v"
   ]
  },
  {
   "cell_type": "markdown",
   "id": "38baa7c1",
   "metadata": {},
   "source": [
    "ODE terminal velocity ~11.339"
   ]
  },
  {
   "cell_type": "code",
   "execution_count": 30,
   "id": "2d175acf",
   "metadata": {},
   "outputs": [
    {
     "data": {
      "text/plain": [
       "11.339655582952656"
      ]
     },
     "execution_count": 30,
     "metadata": {},
     "output_type": "execute_result"
    }
   ],
   "source": [
    "penny_high_sys.v_term"
   ]
  },
  {
   "cell_type": "markdown",
   "id": "cb5f9543",
   "metadata": {},
   "source": [
    "As you can see, all the values have a neglible amount of difference, with the simulation model having the greatest accuracy to the `v_term`.\n",
    "\n",
    "note: `v_term` calculates the magnitutde of velocity, hence the value being > 0 \n",
    "\n",
    "Now, let's drop coins off of the the **Dreyfuss building**!\n",
    "\n",
    "<img src=\"https://www.fdu.edu/wp-content/uploads/2020/04/46722744045_d11a292083_k.jpg\" width=300 height=400 align='left' /> \n",
    "\n"
   ]
  },
  {
   "cell_type": "code",
   "execution_count": 31,
   "id": "afb83f85",
   "metadata": {
    "scrolled": true
   },
   "outputs": [
    {
     "data": {
      "text/plain": [
       "Text(0, 4, 'Penny at sidewalk')"
      ]
     },
     "execution_count": 31,
     "metadata": {},
     "output_type": "execute_result"
    },
    {
     "data": {
      "image/png": "[encoded data removed]",
      "text/plain": [
       "<Figure size 450x300 with 1 Axes>"
      ]
     },
     "metadata": {},
     "output_type": "display_data"
    }
   ],
   "source": [
    "plot_position(results_penny_low_sim, results_quarter_low_sim, 'Position - Simulation with 5 m height, Mercado')\n",
    "plt.annotate('Quarter at sidewalk', xy=(1.11, 0), xytext=(0, 0), arrowprops=dict(arrowstyle=\"->\"))\n",
    "plt.annotate('Penny at sidewalk', xy=(1.13, 0), xytext=(0, 4), arrowprops=dict(arrowstyle=\"->\"))"
   ]
  },
  {
   "cell_type": "markdown",
   "id": "0ed4e6d3",
   "metadata": {},
   "source": [
    "Interesting! Both coins hit the ground at nearly the same time. Because the height is significantly lower than the Empire, the difference in time is significantly smaller - meaning that most of the energy produced in the falling object is mostly due to the friction of air, hence the closer proximities to the two. Ignoring the bleeding values past y = 0, we notice that the positin curve never fully straightens out! "
   ]
  },
  {
   "cell_type": "code",
   "execution_count": 32,
   "id": "085af277",
   "metadata": {},
   "outputs": [
    {
     "data": {
      "image/png": "[encoded data removed]",
      "text/plain": [
       "<Figure size 450x300 with 1 Axes>"
      ]
     },
     "metadata": {},
     "output_type": "display_data"
    }
   ],
   "source": [
    "plot_position(results_penny_low_ode, results_quarter_low_ode, 'Position - Analysis with 5 m height, Mercado')"
   ]
  },
  {
   "cell_type": "markdown",
   "id": "fba65058",
   "metadata": {},
   "source": [
    "Looks the same! Let's investigate the velocities to see if the coins every reach terminal velocity"
   ]
  },
  {
   "cell_type": "code",
   "execution_count": 33,
   "id": "f1a84b82",
   "metadata": {},
   "outputs": [
    {
     "data": {
      "image/png": "[encoded data removed]",
      "text/plain": [
       "<Figure size 450x300 with 1 Axes>"
      ]
     },
     "metadata": {},
     "output_type": "display_data"
    }
   ],
   "source": [
    "plot_velocity(results_penny_low_sim, results_quarter_low_sim, 'Velocity - Simulation with 5 m height, Mercado')"
   ]
  },
  {
   "cell_type": "code",
   "execution_count": 34,
   "id": "6c5a79c2",
   "metadata": {
    "scrolled": true
   },
   "outputs": [
    {
     "data": {
      "image/png": "[encoded data removed]",
      "text/plain": [
       "<Figure size 450x300 with 1 Axes>"
      ]
     },
     "metadata": {},
     "output_type": "display_data"
    }
   ],
   "source": [
    "plot_velocity(results_penny_low_ode, results_quarter_low_ode, 'Velocity - Analysis with 5 m height, Mercado')"
   ]
  },
  {
   "cell_type": "markdown",
   "id": "006263f6",
   "metadata": {},
   "source": [
    "Above, it is clear that the velocity of the coins never truly reach the terminal velocity as the velocity curve never flattens into a straight line like it did in the previous models with heigh 381 m! Therefore, we can say that a coin does *not* reach terminal velocity at a height of 5 m.\n",
    "\n",
    "We have seen what it is like to drop coins through the atmosphere, but what if we drop it in water?"
   ]
  },
  {
   "cell_type": "markdown",
   "id": "13ed8449",
   "metadata": {},
   "source": [
    "# Dropping Coins in Water\n",
    "\n",
    "\n",
    "<img src=\"https://gogettercferg.files.wordpress.com/2016/06/giphy2.gif\" width=300 height=400 align='left' /> \n",
    "\n"
   ]
  },
  {
   "cell_type": "markdown",
   "id": "04b31e6e",
   "metadata": {},
   "source": [
    "Given that our simulations account for the the density of the atmosphere or the medium in which an object is falling through, we can make a rough approxmiate of what it would be like for an object to free fall underwater. Let's initialize our variables:"
   ]
  },
  {
   "cell_type": "code",
   "execution_count": 35,
   "id": "774c1745",
   "metadata": {},
   "outputs": [
    {
     "data": {
      "text/html": [
       "<div>\n",
       "<style scoped>\n",
       "    .dataframe tbody tr th:only-of-type {\n",
       "        vertical-align: middle;\n",
       "    }\n",
       "\n",
       "    .dataframe tbody tr th {\n",
       "        vertical-align: top;\n",
       "    }\n",
       "\n",
       "    .dataframe thead th {\n",
       "        text-align: right;\n",
       "    }\n",
       "</style>\n",
       "<table border=\"1\" class=\"dataframe\">\n",
       "  <thead>\n",
       "    <tr style=\"text-align: right;\">\n",
       "      <th></th>\n",
       "      <th>value</th>\n",
       "    </tr>\n",
       "  </thead>\n",
       "  <tbody>\n",
       "    <tr>\n",
       "      <th>height</th>\n",
       "      <td>381.0000</td>\n",
       "    </tr>\n",
       "    <tr>\n",
       "      <th>v_init</th>\n",
       "      <td>0.0000</td>\n",
       "    </tr>\n",
       "    <tr>\n",
       "      <th>g</th>\n",
       "      <td>9.8000</td>\n",
       "    </tr>\n",
       "    <tr>\n",
       "      <th>mass</th>\n",
       "      <td>0.0055</td>\n",
       "    </tr>\n",
       "    <tr>\n",
       "      <th>diameter</th>\n",
       "      <td>0.0243</td>\n",
       "    </tr>\n",
       "    <tr>\n",
       "      <th>rho</th>\n",
       "      <td>1.2250</td>\n",
       "    </tr>\n",
       "    <tr>\n",
       "      <th>t_end</th>\n",
       "      <td>30.0000</td>\n",
       "    </tr>\n",
       "    <tr>\n",
       "      <th>C_d</th>\n",
       "      <td>1.1200</td>\n",
       "    </tr>\n",
       "  </tbody>\n",
       "</table>\n",
       "</div>"
      ],
      "text/plain": [
       "             value\n",
       "height    381.0000\n",
       "v_init      0.0000\n",
       "g           9.8000\n",
       "mass        0.0055\n",
       "diameter    0.0243\n",
       "rho         1.2250\n",
       "t_end      30.0000\n",
       "C_d         1.1200"
      ]
     },
     "execution_count": 35,
     "metadata": {},
     "output_type": "execute_result"
    }
   ],
   "source": [
    "params_quarter_underwater = Params(height = 381,     # m\n",
    "                v_init = 0,       # m / s\n",
    "                g = 9.8,          # m/s**2\n",
    "                mass = 5.5e-3,    # kg\n",
    "                diameter = 24.3e-3, # m\n",
    "                rho = 1000,        # kg/m**2\n",
    "                t_end = 30,      # seconds \n",
    "                C_d = 1.12\n",
    "               )\n",
    "\n",
    "show(params_quarter_high)"
   ]
  },
  {
   "cell_type": "code",
   "execution_count": 36,
   "id": "434e4a6a",
   "metadata": {},
   "outputs": [
    {
     "data": {
      "text/html": [
       "<div>\n",
       "<style scoped>\n",
       "    .dataframe tbody tr th:only-of-type {\n",
       "        vertical-align: middle;\n",
       "    }\n",
       "\n",
       "    .dataframe tbody tr th {\n",
       "        vertical-align: top;\n",
       "    }\n",
       "\n",
       "    .dataframe thead th {\n",
       "        text-align: right;\n",
       "    }\n",
       "</style>\n",
       "<table border=\"1\" class=\"dataframe\">\n",
       "  <thead>\n",
       "    <tr style=\"text-align: right;\">\n",
       "      <th></th>\n",
       "      <th>value</th>\n",
       "    </tr>\n",
       "  </thead>\n",
       "  <tbody>\n",
       "    <tr>\n",
       "      <th>height</th>\n",
       "      <td>381.0000</td>\n",
       "    </tr>\n",
       "    <tr>\n",
       "      <th>v_init</th>\n",
       "      <td>0.0000</td>\n",
       "    </tr>\n",
       "    <tr>\n",
       "      <th>g</th>\n",
       "      <td>9.8000</td>\n",
       "    </tr>\n",
       "    <tr>\n",
       "      <th>mass</th>\n",
       "      <td>0.0055</td>\n",
       "    </tr>\n",
       "    <tr>\n",
       "      <th>diameter</th>\n",
       "      <td>0.0243</td>\n",
       "    </tr>\n",
       "    <tr>\n",
       "      <th>rho</th>\n",
       "      <td>1.2250</td>\n",
       "    </tr>\n",
       "    <tr>\n",
       "      <th>t_end</th>\n",
       "      <td>30.0000</td>\n",
       "    </tr>\n",
       "    <tr>\n",
       "      <th>C_d</th>\n",
       "      <td>1.1200</td>\n",
       "    </tr>\n",
       "  </tbody>\n",
       "</table>\n",
       "</div>"
      ],
      "text/plain": [
       "             value\n",
       "height    381.0000\n",
       "v_init      0.0000\n",
       "g           9.8000\n",
       "mass        0.0055\n",
       "diameter    0.0243\n",
       "rho         1.2250\n",
       "t_end      30.0000\n",
       "C_d         1.1200"
      ]
     },
     "execution_count": 36,
     "metadata": {},
     "output_type": "execute_result"
    }
   ],
   "source": [
    "params_penny_underwater = Params(height = 381,     # m\n",
    "                v_init = 0,       # m / s\n",
    "                g = 9.8,          # m/s**2\n",
    "                mass = 2.5e-3,    # kg\n",
    "                diameter = 19e-3,\n",
    "                rho = 1000,        # kg/m**2\n",
    "                t_end = 30,      # seconds \n",
    "                C_d = 1.12\n",
    "               )\n",
    "\n",
    "show(params_quarter_high)"
   ]
  },
  {
   "cell_type": "markdown",
   "id": "c2174bf4",
   "metadata": {},
   "source": [
    "`rho` is a *constant*, the density of [water](http://www.sengpielaudio.com/calculator-densityunits.htm#:~:text=Water%20as%20the%20reference%20with,%3D%201000%20kg%2Fm3.). Let's Quickly run our simulations and plot\n"
   ]
  },
  {
   "cell_type": "code",
   "execution_count": 37,
   "id": "55ad71c4",
   "metadata": {},
   "outputs": [
    {
     "data": {
      "text/plain": [
       "namespace(height=381,\n",
       "          v_init=0,\n",
       "          g=9.8,\n",
       "          mass=0.0025,\n",
       "          diameter=0.019,\n",
       "          rho=1000,\n",
       "          t_end=35,\n",
       "          C_d=1.12,\n",
       "          area=0.0002835287369864788,\n",
       "          init=y    381\n",
       "               v      0\n",
       "               Name: state, dtype: int64,\n",
       "          t_0=0,\n",
       "          dt=0.1,\n",
       "          v_term=0.3928171922001215)"
      ]
     },
     "execution_count": 37,
     "metadata": {},
     "output_type": "execute_result"
    }
   ],
   "source": [
    "quarter_underwater = make_system(params_quarter_underwater)\n",
    "penny_underwater = make_system(params_penny_underwater)\n",
    "\n",
    "#results_quarter_underwater_sim = run_simulation(quarter_underwater,update_func)"
   ]
  },
  {
   "cell_type": "markdown",
   "id": "c39ebee6",
   "metadata": {},
   "source": [
    "Because of the nature of the simulation function, the value of density is actually *too* high for the model, causing an overflow error when utilizing basic float operators. Luckily, our analysis model handles this issue with no problem:"
   ]
  },
  {
   "cell_type": "code",
   "execution_count": 38,
   "id": "af4d6efc",
   "metadata": {},
   "outputs": [
    {
     "data": {
      "text/plain": [
       "  message: 'The solver successfully reached the end of the integration interval.'\n",
       "     nfev: 3386\n",
       "     njev: 0\n",
       "      nlu: 0\n",
       "      sol: <scipy.integrate._ivp.common.OdeSolution object at 0x7fd3c8cae0d0>\n",
       "   status: 0\n",
       "  success: True\n",
       " t_events: [array([], dtype=float64)]\n",
       " y_events: [array([], dtype=float64)]"
      ]
     },
     "execution_count": 38,
     "metadata": {},
     "output_type": "execute_result"
    }
   ],
   "source": [
    "results_penny_ode, details = run_solve_ivp(penny_underwater, slope_func, events=event_func)\n",
    "results_quarter_ode, details = run_solve_ivp(quarter_underwater, slope_func, events=event_func)\n",
    "details"
   ]
  },
  {
   "cell_type": "code",
   "execution_count": 39,
   "id": "f00cd270",
   "metadata": {
    "scrolled": true
   },
   "outputs": [
    {
     "data": {
      "image/png": "[encoded data removed]",
      "text/plain": [
       "<Figure size 450x300 with 1 Axes>"
      ]
     },
     "metadata": {},
     "output_type": "display_data"
    }
   ],
   "source": [
    "plot_position(results_penny_ode, results_quarter_ode, 'Position - penny UNDERWATER with 381m Height, Mercado')"
   ]
  },
  {
   "cell_type": "markdown",
   "id": "5e6cd7b1",
   "metadata": {},
   "source": [
    "And the velocities: "
   ]
  },
  {
   "cell_type": "code",
   "execution_count": 40,
   "id": "152bf8d5",
   "metadata": {},
   "outputs": [
    {
     "data": {
      "image/png": "[encoded data removed]",
      "text/plain": [
       "<Figure size 450x300 with 1 Axes>"
      ]
     },
     "metadata": {},
     "output_type": "display_data"
    }
   ],
   "source": [
    "plot_velocity(results_penny_ode, results_quarter_ode, 'Velocity - penny UNDERWATER with 381m Height, Mercado')"
   ]
  },
  {
   "cell_type": "markdown",
   "id": "59637e40",
   "metadata": {},
   "source": [
    "What is interesting about the behavior of the two coins in this situation are that they reach terminal velocity nearly instantly when falling through water. With everything we know, this phenomenon is due to the drag foce that is given by the water onto the coin, effectively stabilizing acceleration to 0 after instantaneously deccelerating. This causes a constant velocity of free fall in the water. In this case, it's probably safe to say that these coins won't be hurting anything anytime soon.\n",
    "\n",
    "Now for fun, let's animate the coin falling in water vs falling in air!"
   ]
  },
  {
   "cell_type": "code",
   "execution_count": 41,
   "id": "f0d0f1fd",
   "metadata": {},
   "outputs": [],
   "source": [
    "from matplotlib.pyplot import plot\n",
    "\n",
    "def draw_func(t, state):\n",
    "    plot(0.5, state.y, 'bo')\n",
    "    decorate(xlabel='x position (m)',\n",
    "             ylabel='y position (m)',\n",
    "             xlim=(0,1),\n",
    "             ylim=(0,381))"
   ]
  },
  {
   "cell_type": "code",
   "execution_count": 42,
   "id": "8c178010",
   "metadata": {
    "scrolled": true
   },
   "outputs": [
    {
     "data": {
      "image/png": "[encoded data removed]",
      "text/plain": [
       "<Figure size 450x300 with 1 Axes>"
      ]
     },
     "metadata": {},
     "output_type": "display_data"
    }
   ],
   "source": [
    "animate(results_quarter_high_ode, draw_func)"
   ]
  },
  {
   "cell_type": "code",
   "execution_count": 43,
   "id": "3e7607dc",
   "metadata": {},
   "outputs": [],
   "source": [
    "def draw_func(t, state):\n",
    "    plot(0.5, state.y, 'bo')\n",
    "    decorate(xlabel='x position (m)',\n",
    "             ylabel='y position (m)',\n",
    "             xlim=(0,1),\n",
    "             ylim=(0,381))"
   ]
  },
  {
   "cell_type": "code",
   "execution_count": 44,
   "id": "a117274c",
   "metadata": {
    "scrolled": true
   },
   "outputs": [
    {
     "data": {
      "image/png": "[encoded data removed]",
      "text/plain": [
       "<Figure size 450x300 with 1 Axes>"
      ]
     },
     "metadata": {},
     "output_type": "display_data"
    }
   ],
   "source": [
    "animate(results_quarter_ode, draw_func)"
   ]
  },
  {
   "cell_type": "markdown",
   "id": "3a066518",
   "metadata": {},
   "source": [
    "I chose to match the scales of the underwater and regular animation to illustrate how much water reduced the velocity of the quarter compared to the regular in air drop. It barely moves within the water when you compare the two at the same scale!"
   ]
  },
  {
   "cell_type": "markdown",
   "id": "f63f1f77",
   "metadata": {},
   "source": [
    "# Conclusion \n",
    "From what we've gathered throughout this project, we found the importance of Coefficient of drag, `C_d`, and the density of the atmosphere, `rho`, is to determining a falling objects terminal velocity - if at any point it does reach it. Terminal Velocity only occurs when friction due to the atmosphere is present. If we were to represent this in a free body diagram, it would look like this:\n",
    "\n",
    "<img src=\"https://www.elevise.co.uk/uploads/9/8/0/2/98021560/published/screenshot-2022-01-29-at-10-32-21.png?1643452421\" width=200 height=400 align = 'center'/> \n",
    "\n",
    "Where the air resistance force vector counteracts the force due to gravity vector, causing the object to reach terminal vecocity. Furthermore, using the principle of forces (Newtons Second Law), we found that objects with a greater mass will have greater terminal velocities due to greater force being produced as a factor of gravity. This will cause the heavier object to also fall in faster time! The greater the density of the atmosphere is, the faster an object reaches terminal velocity!\n",
    "\n"
   ]
  }
 ],
 "metadata": {
  "kernelspec": {
   "display_name": "Python 3 (ipykernel)",
   "language": "python",
   "name": "python3"
  },
  "language_info": {
   "codemirror_mode": {
    "name": "ipython",
    "version": 3
   },
   "file_extension": ".py",
   "mimetype": "text/x-python",
   "name": "python",
   "nbconvert_exporter": "python",
   "pygments_lexer": "ipython3",
   "version": "3.9.13"
  }
 },
 "nbformat": 4,
 "nbformat_minor": 5
}
